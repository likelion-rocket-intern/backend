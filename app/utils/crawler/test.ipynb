{
 "cells": [
  {
   "cell_type": "code",
   "execution_count": null,
   "id": "ee961ab6",
   "metadata": {},
   "outputs": [
    {
     "name": "stdout",
     "output_type": "stream",
     "text": [
      "user_content를 찾을 수 없습니다.\n"
     ]
    }
   ],
   "source": [
    "import requests\n",
    "from bs4 import BeautifulSoup\n",
    "\n",
    "# 크롤링할 URL\n",
    "url = \"https://www.saramin.co.kr/zf_user/jobs/relay/view?isMypage=no&rec_idx=51241350&recommend_ids=eJxVj8kRA0EIA6PxX%2BLm7UA2%2Fyw8a9cO42eXoBFOuEr7VeQr305lqtjVkC8yIzR3KhGeeBBtDNRC%2FNJut9zIRhkfFdyEYVvFWqq5K2JLftylds9wWEXNcCsxrRCw44XVKaiTataBK238fVScVmLL1ge22r2LDxOgP7Q%3D&view_type=list&gz=1&t_ref_content=general&t_ref=area_recruit&relayNonce=3cb306c0dbf778d73d7e&immediately_apply_layer_open=n#seq=0\"\n",
    "\n",
    "# User-Agent 헤더 추가 (크롤링 차단 방지용)\n",
    "headers = {\n",
    "    \"User-Agent\": \"Mozilla/5.0 (Windows NT 10.0; Win64; x64) AppleWebKit/537.36 (KHTML, like Gecko) Chrome/123.0.0.0 Safari/537.36\"\n",
    "}\n",
    "\n",
    "# HTML 가져오기\n",
    "response = requests.get(url, headers=headers)\n",
    "html = response.text\n",
    "\n",
    "# BeautifulSoup으로 파싱\n",
    "soup = BeautifulSoup(html, 'html.parser')\n",
    "\n",
    "# user_content 클래스의 div 찾기\n",
    "user_content_div = soup.find(\"body\")\n",
    "\n",
    "if user_content_div:\n",
    "    text = user_content_div.get_text(separator='\\n').strip()\n",
    "    print(text)\n",
    "else:\n",
    "    print(\"user_content를 찾을 수 없습니다.\")"
   ]
  }
 ],
 "metadata": {
  "kernelspec": {
   "display_name": ".venv",
   "language": "python",
   "name": "python3"
  },
  "language_info": {
   "codemirror_mode": {
    "name": "ipython",
    "version": 3
   },
   "file_extension": ".py",
   "mimetype": "text/x-python",
   "name": "python",
   "nbconvert_exporter": "python",
   "pygments_lexer": "ipython3",
   "version": "3.10.14"
  }
 },
 "nbformat": 4,
 "nbformat_minor": 5
}
